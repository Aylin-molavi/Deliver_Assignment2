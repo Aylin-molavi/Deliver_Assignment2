{
 "cells": [
  {
   "cell_type": "code",
   "execution_count": null,
   "metadata": {},
   "outputs": [
    {
     "name": "stdout",
     "output_type": "stream",
     "text": [
      "0.23494577258837956\n"
     ]
    }
   ],
   "source": [
    "from math import comb\n",
    "\n",
    "def probability(k, N):\n",
    "    p = 0.25  # Probability of each offspring being Aa Bb\n",
    "    total_offspring = 2 ** k  # Total organisms in the k-th generation\n",
    "    \n",
    "    # Calculate the cumulative probability for fewer than N Aa Bb organisms\n",
    "    cumulative_probability = 0\n",
    "    for x in range(N):\n",
    "        # Binomial probability for exactly x Aa Bb organisms\n",
    "        binomial_prob = comb(total_offspring, x) * (p ** x) * ((1 - p) ** (total_offspring - x))\n",
    "        cumulative_probability += binomial_prob\n",
    "\n",
    "    # Probability of at least N Aa Bb organisms\n",
    "    result = 1 - cumulative_probability\n",
    "    return result\n",
    "\n",
    "\n",
    "k = 7  \n",
    "N = 36  \n",
    "result = probability(k, N)\n",
    "print(result)\n"
   ]
  }
 ],
 "metadata": {
  "kernelspec": {
   "display_name": "base",
   "language": "python",
   "name": "python3"
  },
  "language_info": {
   "codemirror_mode": {
    "name": "ipython",
    "version": 3
   },
   "file_extension": ".py",
   "mimetype": "text/x-python",
   "name": "python",
   "nbconvert_exporter": "python",
   "pygments_lexer": "ipython3",
   "version": "3.11.5"
  }
 },
 "nbformat": 4,
 "nbformat_minor": 2
}
