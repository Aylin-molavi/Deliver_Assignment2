{
 "cells": [
  {
   "cell_type": "code",
   "execution_count": 12,
   "metadata": {},
   "outputs": [
    {
     "name": "stdout",
     "output_type": "stream",
     "text": [
      "GGTGCGATTTATGATACGGGATGATATTGCGCTCGAGAGCAGGCGCCTGTCGCACGAGACTTCCGGAATGTACTTCGACCTGCCGTACTGCCGCGGTCTCTGCCCTCTGGAGTGGTGCTGCCTAATGCTCCCGTGATGGTGCTTTCGTGACCAGAGCCCATTGGAGTGAAGCTGTGACTAAGCTGCACCCTACTATACACGGACCGTTGCCACTTATGAAGCTGCTGACGCAGACAGCGAAACGGGCACATATGGTGAAGATAGTTGCCTA\n"
     ]
    }
   ],
   "source": [
    "def read_fasta(filename):\n",
    "    with open(filename, 'r') as file:\n",
    "        sequences = {}\n",
    "        current_label = None\n",
    "        for line in file:\n",
    "            line = line.strip()\n",
    "            if line.startswith(\">\"):\n",
    "                current_label = line[1:]  # Store label without '>'\n",
    "                sequences[current_label] = \"\"  # Initialize sequence \n",
    "            else:\n",
    "                sequences[current_label] += line  # Append line to the current sequence\n",
    "    return list(sequences.values())  # only the sequences as a list!\n",
    "\n",
    "def common_substring(substring, sequences):\n",
    "    return all(substring in seq for seq in sequences)  #if a substring is present in all sequences\n",
    "\n",
    "def longest_common_substring(sequences):  #longest common substring among a list\n",
    "    shortest_seq = min(sequences, key=len)  # Start with the shortest sequence\n",
    "    left, right = 0, len(shortest_seq)\n",
    "    longest_substr = \"\"\n",
    "    \n",
    "    while left <= right:\n",
    "        mid = (left + right) // 2\n",
    "        found = False\n",
    "        # Check all substrings of length `mid`\n",
    "        for i in range(len(shortest_seq) - mid + 1):\n",
    "            substring = shortest_seq[i:i+mid]\n",
    "            if common_substring(substring, sequences):\n",
    "                longest_substr = substring\n",
    "                found = True\n",
    "                break\n",
    "        \n",
    "        # Adjust the binary search range\n",
    "        if found:\n",
    "            left = mid + 1  # Try for a longer substring\n",
    "        else:\n",
    "            right = mid - 1  # Try for a shorter substring\n",
    "            \n",
    "    return longest_substr\n",
    "\n",
    "filename = \"Datasets/rosalind_lcsm.txt\"  \n",
    "sequences = read_fasta(filename)\n",
    "result = longest_common_substring(sequences)\n",
    "print(result)\n"
   ]
  }
 ],
 "metadata": {
  "kernelspec": {
   "display_name": "base",
   "language": "python",
   "name": "python3"
  },
  "language_info": {
   "codemirror_mode": {
    "name": "ipython",
    "version": 3
   },
   "file_extension": ".py",
   "mimetype": "text/x-python",
   "name": "python",
   "nbconvert_exporter": "python",
   "pygments_lexer": "ipython3",
   "version": "3.11.5"
  }
 },
 "nbformat": 4,
 "nbformat_minor": 2
}
