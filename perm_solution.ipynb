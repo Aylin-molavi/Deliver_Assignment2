{
 "cells": [
  {
   "cell_type": "code",
   "execution_count": null,
   "metadata": {},
   "outputs": [],
   "source": [
    "def factorial(n):\n",
    "    if n == 1:\n",
    "        return 1\n",
    "    else:\n",
    "        return n * factorial(n - 1)\n",
    "\n",
    "def generate_permutations(nums):\n",
    "    # If there's only one number, return that as the only permutation\n",
    "    if len(nums) == 1:\n",
    "        return [nums]\n",
    "    all_permutations = []\n",
    "    \n",
    "    for i in range(len(nums)):\n",
    "        # For each number, generate the permutations of the remaining numbers\n",
    "        remaining_nums = nums[:i] + nums[i+1:]\n",
    "        for perm in generate_permutations(remaining_nums):\n",
    "            all_permutations.append([nums[i]] + perm)\n",
    "    \n",
    "    return all_permutations\n",
    "\n",
    "n = int(input(6))  \n",
    "nums = list(range(1, n + 1))  # Create the list of numbers from 1 to n\n",
    "\n",
    "permutations = generate_permutations(nums)\n",
    "\n",
    "print(factorial(n))\n",
    "for perm in permutations:\n",
    "    print(\" \".join(map(str, perm)))\n"
   ]
  }
 ],
 "metadata": {
  "kernelspec": {
   "display_name": "base",
   "language": "python",
   "name": "python3"
  },
  "language_info": {
   "codemirror_mode": {
    "name": "ipython",
    "version": 3
   },
   "file_extension": ".py",
   "mimetype": "text/x-python",
   "name": "python",
   "nbconvert_exporter": "python",
   "pygments_lexer": "ipython3",
   "version": "3.11.5"
  }
 },
 "nbformat": 4,
 "nbformat_minor": 2
}
