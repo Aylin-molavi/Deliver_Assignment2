{
 "cells": [
  {
   "cell_type": "code",
   "execution_count": 5,
   "metadata": {},
   "outputs": [
    {
     "name": "stdout",
     "output_type": "stream",
     "text": [
      "669908100703859665\n"
     ]
    }
   ],
   "source": [
    "def fibonacci_lifespan(n, lifespan):\n",
    "    # Initialize an array to track the number of rabbits at each age up to lifespan\n",
    "    ages = [0] * lifespan\n",
    "    ages[0] = 1  # Start with one pair of newborn rabbits\n",
    "\n",
    "    for month in range(1, n):\n",
    "        # New births are from rabbits that are mature (reproductive age is 1 month or older)\n",
    "        new_born = sum(ages[1:])  # Rabbits in ages[1:] reproduce\n",
    "\n",
    "        # Shift all ages down by one (older rabbits)\n",
    "        ages[1:] = ages[:-1]\n",
    "        ages[0] = new_born  # Newborns are added to the first age slot\n",
    "\n",
    "        # Rabbits that have reached the end of their lifespan are removed (they \"die\")\n",
    "        ages[-1] = 0\n",
    "\n",
    "    # Total population is the sum of all age groups\n",
    "    total_population = sum(ages)\n",
    "    return total_population\n",
    "\n",
    "# Example usage:\n",
    "# Calculate the population at month 89 with a lifespan of 20 months\n",
    "population_at_monthn= fibonacci_lifespan(87, 17)\n",
    "print(population_at_monthn)\n"
   ]
  }
 ],
 "metadata": {
  "kernelspec": {
   "display_name": "base",
   "language": "python",
   "name": "python3"
  },
  "language_info": {
   "codemirror_mode": {
    "name": "ipython",
    "version": 3
   },
   "file_extension": ".py",
   "mimetype": "text/x-python",
   "name": "python",
   "nbconvert_exporter": "python",
   "pygments_lexer": "ipython3",
   "version": "3.11.5"
  }
 },
 "nbformat": 4,
 "nbformat_minor": 2
}
