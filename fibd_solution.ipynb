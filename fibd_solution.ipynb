{
 "cells": [
  {
   "cell_type": "code",
   "execution_count": 3,
   "metadata": {},
   "outputs": [],
   "source": [
    "import pandas as pd"
   ]
  },
  {
   "cell_type": "code",
   "execution_count": 4,
   "metadata": {},
   "outputs": [
    {
     "name": "stdout",
     "output_type": "stream",
     "text": [
      "31420276473714305295\n"
     ]
    }
   ],
   "source": [
    "def Totalrabbits(n, m):\n",
    "\n",
    "    ages = [0] * m\n",
    "    ages[0] = 1  # Initial pair of rabbits (age 0)\n",
    "\n",
    "    for _ in range(1, n):\n",
    "        # Newborns are the sum of all mature rabbits (ages[1:] since ages[0] cannot reproduce)\n",
    "        newborns = sum(ages[1:])\n",
    "        # Shift ages to the right: older rabbits move up in age!\n",
    "        ages = [newborns] + ages[:-1]\n",
    "\n",
    "\n",
    "    return sum(ages)     # Total rabbits alive =  sum of all age \n",
    "\n",
    "\n",
    "def read_text_file(file_path):\n",
    "    with open(file_path, \"r\") as file:\n",
    "        return file.read().strip()\n",
    "\n",
    "file_path = \"Datasets/rosalind_fibd.txt\"\n",
    "data = read_text_file(file_path)\n",
    "\n",
    "n, m = map(int, data.split())\n",
    "\n",
    "result = Totalrabbits(n, m)\n",
    "print(result) \n"
   ]
  },
  {
   "cell_type": "code",
   "execution_count": null,
   "metadata": {},
   "outputs": [],
   "source": []
  }
 ],
 "metadata": {
  "kernelspec": {
   "display_name": "base",
   "language": "python",
   "name": "python3"
  },
  "language_info": {
   "codemirror_mode": {
    "name": "ipython",
    "version": 3
   },
   "file_extension": ".py",
   "mimetype": "text/x-python",
   "name": "python",
   "nbconvert_exporter": "python",
   "pygments_lexer": "ipython3",
   "version": "3.11.5"
  }
 },
 "nbformat": 4,
 "nbformat_minor": 2
}
