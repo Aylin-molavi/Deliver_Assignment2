{
 "cells": [
  {
   "cell_type": "code",
   "execution_count": 2,
   "metadata": {},
   "outputs": [
    {
     "name": "stdout",
     "output_type": "stream",
     "text": [
      "181056\n"
     ]
    }
   ],
   "source": [
    "# Define the RNA codon table as a dictionary with amino acids mapped to codon counts\n",
    "codon_table = {\n",
    "    'F': 2, 'L': 6, 'S': 6, 'Y': 2, 'C': 2, 'W': 1, 'P': 4, 'H': 2,\n",
    "    'Q': 2, 'R': 6, 'I': 3, 'M': 1, 'T': 4, 'N': 2, 'K': 2, 'V': 4,\n",
    "    'A': 4, 'D': 2, 'E': 2, 'G': 4, '*': 3  # '*' represents stop codons\n",
    "}\n",
    "\n",
    "# Define the function to calculate possible RNA strings\n",
    "def count_rna_strings(protein):\n",
    "    MOD = 1000000\n",
    "    total_rna_strings = 1\n",
    "    \n",
    "    # Multiply the codon counts for each amino acid in the protein sequence\n",
    "    for aa in protein:\n",
    "        total_rna_strings *= codon_table[aa]\n",
    "        total_rna_strings %= MOD  # Keep the result modulo 1,000,000\n",
    "\n",
    "    # Account for the stop codons\n",
    "    total_rna_strings *= codon_table['*']\n",
    "    total_rna_strings %= MOD  # Final modulo for result\n",
    "\n",
    "    return total_rna_strings\n",
    "\n",
    "# Example usage\n",
    "protein_string = \"MDLCRKNIMGGIAFKWRGTHYFAKRVKISLAQALIYEDLRMCLPVKCAFNIQKWMGIDPAFVVLKQNWTPWCKVAVVYDVNDMAMIVARLNRNKFWFSRQSDHEMAADNVWMMWYWEQLYSCNFCFCHTNHRFFSSRMLGYRQPFTFHYIKLPNRCPYYMQLRMCMAFERLMAKIWKQSVRESHEWLMMCWRNYICEGKCDTVLKCMQDVMVTATSWDEKAMTPRARTSRMTALNHRVPVDYDIDIARIMIGFQEVSNICRASPQEMQWEWVTAPNGKQGAWPHPRFQQQNREIRRAFSWRHVPGHHAQKKVQVRASSHRQCCWKMDGLHCGNIHWQWLPRIEHFKEKVLKNMANHTHQKYFLLCYMAWSDSYSSFVTQWPVPDPPTMYLRPFNWSCHINGYSTYCQEGTFWADLALCYRHYIRWATMFYQRTTTMYWSGWVIHVPGTAWRPCAPHWTRCTTRCIWEPDQWWNPMLWHHYLVMRLNWPLVNIYHLWADNDMNEEKENCDQKNWMEGPSAHNKYREFFWEYTCAGKRTGKPIHTYLDSEGWTWASRCDVIIITRNVCNCIPMQFEWKHTVLVCNGQSVYQEHALTVSWPYWEVYGHMPCDVDQSSDAMLERIREHCELLHPHLERAQTPKRQYNYREPQLDVTCFMVGKPAAYKYMDAFARLMYTVRLGWEIQARACCDAENDSNGSNRPADAMVNWENRGFIAVPPRKGMDASVVDCQSQKPGHSKRLTPCMHMTGQWGTQKFWHYNVHDKLFDAANGSIPEMCDNVYGAEQVMDWQWAECVCDDGNKHKYMEQFYQVHMSQYCGGFERVAHTMEVQNGNIQVLGKQNPDRADNRINGVAMNQFECEELRATLIGATSIGMGIDTVMHRPWTIHLCVFPVCDIDKCIDQGHKNKPHKHLRDYPWATRAGKPRRRCMPGGENMKPYYQHDSRHHCPRDMFPEAKLHYLDTACWFVHVWVQHFNQSETMIHAVFLGESQSEQDHGYGDQ\"  \n",
    "result = count_rna_strings(protein_string)\n",
    "print(result)\n"
   ]
  }
 ],
 "metadata": {
  "kernelspec": {
   "display_name": "base",
   "language": "python",
   "name": "python3"
  },
  "language_info": {
   "codemirror_mode": {
    "name": "ipython",
    "version": 3
   },
   "file_extension": ".py",
   "mimetype": "text/x-python",
   "name": "python",
   "nbconvert_exporter": "python",
   "pygments_lexer": "ipython3",
   "version": "3.11.5"
  }
 },
 "nbformat": 4,
 "nbformat_minor": 2
}
