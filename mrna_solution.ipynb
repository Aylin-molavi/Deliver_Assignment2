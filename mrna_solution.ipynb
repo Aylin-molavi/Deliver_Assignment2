{
 "cells": [
  {
   "cell_type": "code",
   "execution_count": null,
   "metadata": {},
   "outputs": [],
   "source": [
    "codon_table = {\n",
    "    'F': 2, 'L': 6, 'S': 6, 'Y': 2, 'C': 2, 'W': 1, 'P': 4, 'H': 2,\n",
    "    'Q': 2, 'R': 6, 'I': 3, 'M': 1, 'T': 4, 'N': 2, 'K': 2, 'V': 4,\n",
    "    'A': 4, 'D': 2, 'E': 2, 'G': 4, '*': 3  # '*' represents stop codons\n",
    "}"
   ]
  },
  {
   "cell_type": "code",
   "execution_count": null,
   "metadata": {},
   "outputs": [
    {
     "name": "stdout",
     "output_type": "stream",
     "text": [
      "181056\n"
     ]
    }
   ],
   "source": [
    "\n",
    "def RNAstrings(protein):\n",
    "    MOD = 1000000\n",
    "    totalRNA = 1\n",
    "    \n",
    "    # Multiply the codon counts for each amino acid in the protein sequence\n",
    "    for aa in protein:\n",
    "        totalRNA *= codon_table[aa]\n",
    "        totalRNA %= MOD  \n",
    "\n",
    "    #the stop codons\n",
    "    totalRNA *= codon_table['*']\n",
    "    totalRNA %= MOD  \n",
    "\n",
    "    return totalRNA\n",
    "\n",
    "pr_string = \"MDLCRKNIMGGIAFKWRGTHYFAKRVKISLAQALIYEDLRMCLPVKCAFNIQKWMGIDPAFVVLKQNWTPWCKVAVVYDVNDMAMIVARLNRNKFWFSRQSDHEMAADNVWMMWYWEQLYSCNFCFCHTNHRFFSSRMLGYRQPFTFHYIKLPNRCPYYMQLRMCMAFERLMAKIWKQSVRESHEWLMMCWRNYICEGKCDTVLKCMQDVMVTATSWDEKAMTPRARTSRMTALNHRVPVDYDIDIARIMIGFQEVSNICRASPQEMQWEWVTAPNGKQGAWPHPRFQQQNREIRRAFSWRHVPGHHAQKKVQVRASSHRQCCWKMDGLHCGNIHWQWLPRIEHFKEKVLKNMANHTHQKYFLLCYMAWSDSYSSFVTQWPVPDPPTMYLRPFNWSCHINGYSTYCQEGTFWADLALCYRHYIRWATMFYQRTTTMYWSGWVIHVPGTAWRPCAPHWTRCTTRCIWEPDQWWNPMLWHHYLVMRLNWPLVNIYHLWADNDMNEEKENCDQKNWMEGPSAHNKYREFFWEYTCAGKRTGKPIHTYLDSEGWTWASRCDVIIITRNVCNCIPMQFEWKHTVLVCNGQSVYQEHALTVSWPYWEVYGHMPCDVDQSSDAMLERIREHCELLHPHLERAQTPKRQYNYREPQLDVTCFMVGKPAAYKYMDAFARLMYTVRLGWEIQARACCDAENDSNGSNRPADAMVNWENRGFIAVPPRKGMDASVVDCQSQKPGHSKRLTPCMHMTGQWGTQKFWHYNVHDKLFDAANGSIPEMCDNVYGAEQVMDWQWAECVCDDGNKHKYMEQFYQVHMSQYCGGFERVAHTMEVQNGNIQVLGKQNPDRADNRINGVAMNQFECEELRATLIGATSIGMGIDTVMHRPWTIHLCVFPVCDIDKCIDQGHKNKPHKHLRDYPWATRAGKPRRRCMPGGENMKPYYQHDSRHHCPRDMFPEAKLHYLDTACWFVHVWVQHFNQSETMIHAVFLGESQSEQDHGYGDQ\"  \n",
    "result = RNAstrings(pr_string)\n",
    "print(result)\n"
   ]
  }
 ],
 "metadata": {
  "kernelspec": {
   "display_name": "base",
   "language": "python",
   "name": "python3"
  },
  "language_info": {
   "codemirror_mode": {
    "name": "ipython",
    "version": 3
   },
   "file_extension": ".py",
   "mimetype": "text/x-python",
   "name": "python",
   "nbconvert_exporter": "python",
   "pygments_lexer": "ipython3",
   "version": "3.11.5"
  }
 },
 "nbformat": 4,
 "nbformat_minor": 2
}
