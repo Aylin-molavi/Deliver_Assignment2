{
 "cells": [
  {
   "cell_type": "code",
   "execution_count": 4,
   "metadata": {},
   "outputs": [
    {
     "name": "stdout",
     "output_type": "stream",
     "text": [
      "109806.61577000062\n"
     ]
    }
   ],
   "source": [
    "#mass table for amino acids\n",
    "mass_table = {\n",
    "    'A': 71.03711, 'C': 103.00919, 'D': 115.02694, 'E': 129.04259,\n",
    "    'F': 147.06841, 'G': 57.02146, 'H': 137.05891, 'I': 113.08406,\n",
    "    'K': 128.09496, 'L': 113.08406, 'M': 131.04049, 'N': 114.04293,\n",
    "    'P': 97.05276, 'Q': 128.05858, 'R': 156.10111, 'S': 87.03203,\n",
    "    'T': 101.04768, 'V': 99.06841, 'W': 186.07931, 'Y': 163.06333\n",
    "}\n",
    "\n",
    "#the total weight of a protein string\n",
    "def protein_mass(protein_string):\n",
    "    total_mass = 0.0\n",
    "    for amino_acid in protein_string:\n",
    "        total_mass += mass_table[amino_acid]\n",
    "    return total_mass\n",
    "\n",
    "\n",
    "pr_string = \"YCMCNHYSSELHIPQTMGHNVFKITPPFFGQGKDIFITHMESSNITTIYCCGHYVPYPMTTCSDHMSWSHCVEFCRAADYPMRCKYDGGEACIDSRRGCTPELDKSYAQTAHHLWICNTPRRDKGVNYEYKPNGGIFITNQMYMCFRRSRCKPSINATHWPDFFGPQPGYQCFCIKWPPPRQRTGMLGAQQDLINVGYWHAKGHVSICYVPDYWMVPLYGRPHNAVSHQAATWAESAHEFNMNCLTTVSTYNIQIIIGKVNMKMHPKDYIWNKQAFIYWVFIFTMCEKSMWITWKRHIKEACCRKELPWCSDERMNSNENWKPDWVMQPAQHIDGVTQRNQWDKWAPVMGRPDSPWRFFGFNRFWDLTTLKNEDSMIIVPRSTWESEFASAVKLKYWVFQIRNYSPGWLLMHGYLDIFECWIQACVVGEIQEPIITTHFLTQCVDCKLPGPDILCHHPASCSRHGIIAWIFPGKRKVKRDQYLCLHNRRNSHKEACNNMGYQAIDRNSALKGVEIMGDGEQVSMCCIMQACSCMAMEENDWNNQEENYRNTLMGMKPLVYHVNAREIPPCYPGWQPCRWVAEDVYKHNGTWQKEVHINTHRAPFWEGKTGGCNQSDRIFCDRLGQIAVECQVNFWYGAARFIYIRANHALAAVEQERVLCHRFAWLANNDPCRYRETHIEMKFDIAWMYDEPPEWYLFKDSFTPQDSIATVCSWNWEDEAHHVGTDSEVKLSGFSDLAKIEVQQFMGVEEIMCYFCPPFPHMPQQFRHRQEPTCHEYPTANTPVFMKSGMSATNKPTPWKSIFMCYHQMQKQTIMKQDPENAGRLGDHLMHLGWMPYMFAHILGVCLQPLQRRMEHESPWSATFTKFMNRYIETADSVFGLTERNSYAKCLNKVIYPFQDTGPWRDDGTQDFEIYPMSTHQSNDLWLFGHTMIPDVE\"\n",
    "total_mass = protein_mass(pr_string)\n",
    "print(total_mass)\n"
   ]
  }
 ],
 "metadata": {
  "kernelspec": {
   "display_name": "base",
   "language": "python",
   "name": "python3"
  },
  "language_info": {
   "codemirror_mode": {
    "name": "ipython",
    "version": 3
   },
   "file_extension": ".py",
   "mimetype": "text/x-python",
   "name": "python",
   "nbconvert_exporter": "python",
   "pygments_lexer": "ipython3",
   "version": "3.11.5"
  }
 },
 "nbformat": 4,
 "nbformat_minor": 2
}
