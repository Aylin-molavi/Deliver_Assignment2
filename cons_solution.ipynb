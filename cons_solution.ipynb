{
 "cells": [
  {
   "cell_type": "code",
   "execution_count": 1,
   "metadata": {},
   "outputs": [
    {
     "name": "stderr",
     "output_type": "stream",
     "text": [
      "c:\\Users\\user\\anaconda3\\Lib\\site-packages\\pandas\\core\\arrays\\masked.py:60: UserWarning: Pandas requires version '1.3.6' or newer of 'bottleneck' (version '1.3.5' currently installed).\n",
      "  from pandas.core import (\n"
     ]
    }
   ],
   "source": [
    "import pandas as pd"
   ]
  },
  {
   "cell_type": "code",
   "execution_count": 2,
   "metadata": {},
   "outputs": [
    {
     "name": "stdout",
     "output_type": "stream",
     "text": [
      "GCAACCGCCTCACATATTCAGCGACAATACAGGATAAACGAGTTAGCGGAAACTCCTTTGCTTTTGCTCGTAAACCCTTAGTTAAAACAGGGGGTAGGGCGATTACAAAAACTCCGCCTACTAATTCCCGCAGCACTAACGCGACTTCAAAAAATCACCCTGCCGCCAGATGGTCACGAAATAGTAAGGTAAACGCTCCCACACCGCACCGGGACCCAGCATACCGCATGAAAGGAAATTCATCGGAAAAGTACGGGCCGGACATGACCATAAGAAAGACCGCAAAAATCACCTTCTACCTGCATATTAAACACCCCCCTGATCGCAATCTGCGAGACATTGTTATCAATCGAACGACAACACACATACCGTGCCTCTCGACGAAACCTGACAGAGTATAATAACAACCACGAAGCGAGCAGATGGAAGAAATTATGTGGACTATGTTCCAACACCACTTCAGGAGAAAATCTTGGGCCGACCTGTAAGTAGACAGGCCGCAGAGAGCCGGCAAATGAACATAGATGCCCCTAAGAGACCAATTTACTATCCTTCTGTGCATACAAGTTGGAGAAGTAATACAGCGAACTGGAGATTGCATAATCCGTTGTACTTGGAGCCTCCAAATCCAGATAACTCGCTCATGCATCACGGCCCCACCGCATGCCTAGCATCCTCCACCTAAACAACTGGCAGTAGTAACGATAACCCACCCGACATAATTTTACGATGTCATGTATCCCAGTCCGATTCCCCCAAACCGAACTGTATCAGTCGCTATAAGCCCAAAATAATGTGGGACCGACATAAATACACCCAGATCGCGACAGTCACGGCAGCGTCCCGGGACGTCATTCGACACATAACTCGTGTGGTACCCGACATACCCGATGAACGCACATACACTGAATACTCAAGTCCTCCGATGAATCGGGGCTACCAATTCTCCCGGATATCAAAAAA\n",
      "A: 1 2 4 4 2 2 2 3 2 1 3 4 2 4 0 4 3 2 3 4 3 2 3 3 0 5 3 1 3 0 5 1 1 4 2 3 3 3 0 1 5 2 2 2 4 1 2 2 3 3 4 4 1 3 0 1 2 1 3 2 2 1 0 2 0 2 2 2 1 2 1 3 3 3 3 2 3 2 2 4 2 0 3 5 3 5 3 1 5 1 2 0 3 2 2 5 1 3 2 2 1 5 1 2 3 0 4 4 6 4 3 2 2 3 2 2 2 1 1 5 2 1 7 5 2 3 1 2 2 3 2 4 1 1 3 0 3 5 3 2 2 2 3 4 1 2 1 3 5 3 4 3 5 4 2 3 4 2 2 2 2 2 2 1 2 1 1 5 1 4 1 4 0 1 2 4 3 2 4 4 3 2 3 1 2 3 3 0 2 3 4 4 5 2 1 3 1 2 1 1 4 3 4 2 2 1 2 4 1 3 1 3 2 3 0 2 2 4 3 2 4 2 3 2 0 2 0 5 1 3 3 3 4 0 2 4 3 3 1 3 0 4 2 2 3 2 5 4 4 4 2 2 3 3 3 2 1 2 2 1 2 3 1 5 3 3 5 1 0 4 2 4 4 3 3 3 5 0 5 1 2 3 0 3 3 5 3 3 3 3 4 2 1 2 2 1 3 7 3 0 2 1 2 5 3 4 3 2 4 3 4 3 3 1 2 3 0 0 2 2 1 4 1 1 2 2 4 4 1 2 2 2 3 2 4 0 4 2 4 0 1 2 1 3 5 1 2 4 3 3 2 0 3 4 2 2 4 1 4 3 2 3 3 3 2 4 0 3 1 2 2 4 2 0 1 0 2 1 4 2 3 1 2 3 4 4 2 1 1 2 3 1 3 2 4 2 0 3 1 3 6 3 3 4 2 4 3 2 2 3 1 1 4 3 2 1 3 3 1 2 5 2 3 1 3 3 4 4 3 4 4 3 1 2 4 3 2 1 1 3 3 3 2 4 2 3 2 3 3 2 3 4 2 3 2 0 4 2 2 3 2 4 2 0 4 2 4 4 5 5 3 2 3 2 2 2 2 1 1 1 3 2 1 3 2 0 5 4 3 3 6 2 4 2 4 1 2 0 2 2 3 4 0 3 1 3 3 1 1 2 1 3 4 3 3 3 2 3 3 4 4 2 4 2 5 2 2 2 0 2 3 3 5 3 2 4 2 5 3 1 5 4 3 3 2 4 2 1 3 3 2 1 3 1 2 3 2 2 1 1 4 2 4 1 5 4 3 2 1 3 1 4 2 4 5 0 1 4 5 3 5 2 5 2 3 0 5 6 2 1 1 3 3 1 3 0 1 3 3 4 2 3 3 2 2 1 2 1 2 2 1 3 2 2 2 2 2 4 1 2 0 3 2 2 5 4 6 3 0 2 3 2 4 2 4 4 0 1 1 2 2 3 1 5 2 2 3 3 2 2 6 2 2 2 2 0 1 1 3 2 2 2 0 3 2 1 2 2 2 3 2 3 3 1 1 2 0 2 2 5 0 0 0 5 5 5 2 5 3 2 2 2 2 2 4 1 0 7 2 2 4 3 3 2 3 1 4 4 1 1 1 4 0 1 2 2 5 1 3 2 5 4 0 1 1 2 5 0 2 3 2 2 2 2 4 2 3 2 3 2 1 2 2 4 3 2 2 2 2 3 1 2 1 1 0 1 1 6 6 4 0 2 3 4 4 1 3 1 1 4 1 2 4 0 0 3 0 2 0 4 3 3 4 0 3 2 1 3 5 3 4 4 5 3 1 2 2 3 2 2 4 2 2 1 3 3 4 1 4 5 6 2 6 4 4 3 1 2 4 2 6 0 1 0 1 1 4 1 6 1 2 0 4 1 3 0 2 4 2 2 1 1 0 1 1 2 2 3 4 2 2 1 3 5 2 2 1 0 5 1 4 2 4 2 3 3 2 2 1 3 3 2 1 1 2 3 5 3 3 2 3 4 1 4 2 3 3 1 0 2 4 2 0 3 4 2 2 2 3 2 3 1 3 1 3 2 3 0 4 4 3 5 1 1 2 4 3 2 2 0 2 2 1 2 3 4 3 3 3 4 3 3 3 2 2 2 3 1 3 1 2 4 4 3 2 0 2 0 0 1 2 2 4 2 3 4 1 4 3 3 5 4 5\n",
      "C: 2 4 3 3 3 3 3 6 3 3 4 3 3 4 1 0 2 3 4 1 3 6 1 1 5 0 3 2 2 5 2 2 3 3 1 3 3 1 5 1 1 2 2 2 1 2 5 2 2 3 1 1 4 1 4 4 1 3 2 1 4 2 3 3 2 2 3 1 5 2 2 3 2 3 4 4 4 1 2 2 2 1 1 2 1 1 2 5 2 3 1 3 1 2 2 2 0 2 3 4 3 2 2 3 2 5 2 4 1 3 2 3 3 4 3 2 4 5 1 1 5 2 1 2 2 2 5 5 3 0 3 0 2 4 3 4 0 0 2 5 0 4 0 3 3 0 2 5 1 3 2 3 0 0 2 4 1 3 3 5 1 0 4 4 2 5 3 3 0 4 2 1 3 3 4 4 5 3 1 1 2 1 2 0 1 3 2 2 2 0 4 3 1 3 3 4 1 4 5 4 3 4 2 5 3 1 4 2 5 4 2 1 2 2 4 4 5 3 2 4 1 2 3 4 5 3 4 2 3 2 1 3 2 3 3 1 2 2 2 0 5 0 1 5 2 1 1 2 3 3 2 3 3 4 3 3 2 4 4 1 2 3 4 3 2 3 1 3 4 3 3 3 3 1 2 2 1 3 2 4 4 1 4 3 1 2 3 2 3 5 0 3 3 2 3 4 3 1 4 5 2 3 3 2 1 1 1 0 2 3 3 4 2 6 5 5 4 5 3 2 2 1 3 3 2 6 1 1 2 4 1 2 5 2 2 2 0 3 2 4 1 1 1 1 2 2 3 2 2 1 3 2 3 1 4 1 1 4 2 2 4 1 4 3 4 2 1 3 4 5 3 1 3 5 4 2 5 2 5 2 2 5 2 3 1 2 4 5 2 2 3 4 3 1 2 0 3 3 3 2 1 3 2 3 3 1 3 3 3 3 4 3 1 3 2 4 1 3 2 3 0 2 3 2 3 1 0 4 0 4 4 1 2 2 1 1 2 2 2 3 2 4 1 2 1 1 2 2 4 4 2 2 4 1 4 6 2 4 3 1 4 3 3 3 2 2 0 1 4 3 1 3 1 3 0 0 2 3 5 2 2 4 3 1 0 1 0 3 2 2 2 3 2 4 3 2 2 4 3 2 4 1 3 3 1 3 1 3 5 2 3 4 3 1 2 2 2 3 2 5 2 2 2 1 1 1 1 3 4 3 4 2 3 1 2 3 3 1 5 6 5 3 2 3 2 0 3 3 3 1 6 5 1 1 6 3 2 1 1 3 2 2 3 5 2 2 1 3 2 0 0 3 1 1 2 4 3 3 0 2 2 4 1 2 4 2 2 3 5 1 2 1 3 2 3 3 0 3 6 1 1 1 2 2 5 3 2 2 2 1 3 3 4 1 1 2 2 2 3 5 4 1 4 3 0 1 0 2 5 3 2 2 2 1 2 1 4 3 6 1 5 3 4 2 1 2 5 3 3 3 1 5 0 1 3 6 5 4 3 4 3 2 4 2 3 2 4 4 2 3 1 4 3 3 6 4 2 3 3 2 4 4 3 2 1 1 5 0 2 3 2 3 2 4 1 1 3 1 2 2 0 3 4 3 3 3 2 2 5 4 3 1 4 4 4 2 2 3 3 1 0 1 1 2 3 2 4 5 2 2 1 2 3 3 2 1 1 2 3 2 5 3 3 3 1 3 4 3 1 1 2 1 3 4 4 3 4 0 1 1 4 4 2 1 2 4 3 3 3 1 3 3 4 0 3 4 3 4 4 0 2 3 3 1 6 3 5 3 2 1 2 0 1 3 2 2 1 0 2 2 2 4 3 3 3 4 3 2 4 2 0 1 1 5 4 6 4 3 3 3 1 3 4 3 5 3 1 3 0 2 2 4 0 4 1 0 5 4 1 4 3 2 5 5 4 1 2 2 3 3 1 3 4 3 3 0 4 2 2 5 3 6 1 1 2 2 4 2 5 1 0 2 2 2 2 1 1 4 4 5 0 1 5 2 1 3 5 4 4 1 4 1 2 3 1 5 2 4 3 3 2 2 1 5 2 5 2 4 1 3 1 3 3 3 4 2 3 1 1 5 6 2 5 4 3 4 0 2 3 4 0 4 0 2 0 2 4 2 3 4 4 2 3 1 1 5 1 4 5 7 3 2 3 1 2 1 4 1 3 1 4 1 1\n",
      "G: 5 2 2 1 2 2 4 0 2 2 1 1 3 2 4 2 1 1 2 3 4 1 4 3 3 3 2 2 3 2 0 4 4 0 3 2 2 3 4 6 2 4 1 2 1 4 1 4 4 1 3 4 3 2 2 1 3 1 1 4 2 1 2 1 3 5 2 2 1 3 1 2 3 1 0 2 0 1 2 1 5 4 2 0 3 2 3 3 1 4 5 5 4 3 2 1 6 4 4 1 4 2 3 1 3 1 0 0 0 1 3 2 1 1 3 3 3 3 3 2 2 2 2 1 2 0 1 1 2 4 2 3 4 2 3 2 2 4 2 2 4 3 4 3 3 3 3 2 3 2 3 2 5 2 2 2 4 2 3 0 3 5 3 2 3 4 3 1 7 1 2 5 5 2 2 1 0 5 3 1 3 3 3 6 3 3 2 4 3 3 1 2 2 3 4 2 2 2 1 1 2 1 0 1 2 4 2 2 1 1 5 4 4 3 2 0 2 2 4 1 3 2 3 1 3 5 3 3 2 4 3 1 2 5 4 3 2 2 2 2 3 3 3 2 4 6 3 4 0 2 4 0 2 3 4 4 4 3 2 5 4 2 4 1 1 4 3 3 2 3 1 2 0 5 3 3 2 5 0 1 2 4 3 2 3 2 1 2 0 1 4 2 3 2 0 4 0 2 1 3 1 4 3 3 2 3 2 1 0 2 1 0 2 1 2 2 3 0 3 2 4 1 2 3 4 0 2 2 2 1 1 3 0 4 3 6 2 3 1 0 2 5 3 2 1 2 2 1 3 1 2 7 2 3 3 6 1 2 3 2 2 3 1 2 2 2 2 3 2 2 4 0 4 3 1 3 2 2 0 3 3 2 4 3 1 2 3 2 1 4 2 2 3 4 2 5 2 1 2 3 0 0 2 1 3 2 2 3 2 3 4 5 3 3 4 3 4 1 6 2 3 4 1 3 4 4 4 0 4 1 0 3 3 2 3 2 5 2 5 4 2 1 3 2 2 4 2 1 1 2 3 4 2 3 2 2 1 1 1 1 3 0 4 5 2 4 3 3 1 1 2 2 1 0 5 5 3 3 2 4 3 3 3 1 4 3 4 1 5 1 1 4 3 1 2 4 3 3 3 4 2 2 4 2 4 3 5 3 1 4 4 1 1 3 3 1 3 1 2 1 1 2 2 6 1 3 6 3 3 2 1 1 1 3 3 2 4 0 2 1 0 2 1 0 2 2 3 2 1 2 0 3 1 3 0 0 3 1 4 3 0 2 1 2 3 1 4 0 3 5 6 1 4 4 2 5 1 3 3 1 2 1 3 3 3 4 3 1 2 3 4 5 3 5 1 1 3 4 1 3 1 3 2 2 0 3 3 3 2 4 1 2 3 3 2 3 4 3 5 2 3 2 3 2 1 4 1 1 4 3 3 3 2 3 3 3 3 1 1 6 1 0 2 3 3 3 2 2 1 3 2 2 4 7 2 2 4 1 2 3 3 4 3 3 1 4 1 0 2 2 4 2 2 2 1 4 2 2 2 2 3 4 2 2 3 3 3 2 2 2 2 4 4 3 4 4 3 1 5 2 3 1 2 4 2 0 1 1 0 4 3 3 3 2 1 4 1 3 1 2 3 3 3 2 2 2 0 1 3 3 2 5 1 3 2 3 4 2 2 2 0 2 3 0 4 1 3 2 5 3 2 2 3 2 4 3 3 3 3 2 2 2 4 2 2 2 0 5 1 3 1 3 1 6 2 1 4 3 1 4 1 1 2 5 0 2 4 1 1 3 1 0 3 1 3 3 3 5 5 4 3 2 3 5 3 1 1 3 0 3 3 3 2 0 1 1 3 3 1 4 1 3 3 4 2 4 3 3 1 7 2 3 4 1 4 7 0 1 5 3 4 3 4 2 4 5 3 4 0 2 4 2 1 1 1 1 4 4 2 3 1 1 2 3 2 2 2 2 2 4 1 5 2 4 4 2 2 1 1 1 4 4 2 2 3 1 0 4 3 6 1 3 7 2 1 0 3 3 3 3 3 3 3 2 3 0 1 5 2 0 2 1 3 1 1 2 3 4 3 2 1 2 4 0 4 1 3 4 2 2 2 2 4 5 7 3 1 3 2 1 1 1 2 1 0 1 2 2 2 1 4 5 2 2 2 0 1 3 2 3 0 4 0\n",
      "T: 2 2 1 2 3 3 1 1 3 4 2 2 2 0 5 4 4 4 1 2 0 1 2 3 2 2 2 5 2 3 3 3 2 3 4 2 2 3 1 2 2 2 5 4 4 3 2 2 1 3 2 1 2 4 4 4 4 5 4 3 2 6 5 4 5 1 3 5 3 3 6 2 2 3 3 2 3 6 4 3 1 5 4 3 3 2 2 1 2 2 2 2 2 3 4 2 3 1 1 3 2 1 4 4 2 4 4 2 3 2 2 3 4 2 2 3 1 1 5 2 1 5 0 2 4 5 3 2 3 3 3 3 3 3 1 4 5 1 3 1 4 1 3 0 3 5 4 0 1 2 1 2 0 4 4 1 1 3 2 3 4 3 1 3 3 0 3 1 2 1 5 0 2 4 2 1 2 0 2 4 2 4 2 3 4 1 3 4 3 4 1 1 2 2 2 1 6 2 3 4 1 2 4 2 3 4 2 2 3 2 2 2 2 2 4 4 1 1 1 3 2 4 1 3 2 0 3 0 4 1 3 3 2 2 1 2 3 3 5 5 2 3 4 1 1 1 1 0 3 1 2 5 2 0 0 1 3 1 2 3 2 2 1 1 4 0 1 3 4 0 4 1 3 1 2 2 2 2 3 4 2 2 3 2 3 1 3 3 4 1 2 3 3 4 5 1 4 0 2 2 5 2 2 0 4 2 4 7 4 2 2 3 3 2 1 0 3 5 2 4 3 4 4 3 2 2 3 3 5 3 6 3 2 2 1 2 4 2 3 6 6 2 5 4 2 5 3 3 2 5 3 1 2 2 1 1 4 3 1 3 2 3 2 2 2 2 7 1 3 1 1 5 1 2 4 5 1 5 1 3 2 2 2 1 4 2 1 2 6 2 2 3 1 3 2 3 5 3 4 2 3 4 3 2 2 3 2 2 3 1 1 1 2 1 2 2 2 3 1 3 2 2 3 4 0 2 2 2 3 1 2 3 4 4 2 4 1 5 2 0 3 2 4 2 5 2 4 4 2 2 2 0 2 3 2 2 3 3 4 5 1 3 1 2 2 2 3 2 0 1 4 3 5 5 3 3 3 3 2 3 2 1 3 5 4 6 1 2 0 4 1 1 1 3 1 3 3 3 2 2 1 3 3 2 4 1 1 3 3 2 2 2 2 3 2 4 3 3 3 0 3 4 2 1 3 4 1 2 3 3 2 4 1 3 3 1 1 4 0 2 0 1 4 4 4 4 2 4 3 4 2 1 5 5 2 4 3 6 4 3 4 4 2 2 0 3 2 5 4 2 3 2 3 1 1 1 5 0 2 4 1 3 1 3 0 4 0 0 1 5 3 1 1 2 3 6 6 0 0 2 6 3 3 4 3 3 3 4 4 3 5 2 1 4 5 3 2 1 1 1 3 4 1 3 4 1 3 4 1 2 2 3 2 4 1 2 3 5 2 1 2 4 3 0 4 3 0 2 4 2 1 1 4 0 3 2 0 4 2 1 2 2 3 2 4 3 3 4 4 2 3 1 2 4 2 0 6 3 3 1 3 2 5 1 1 1 0 3 3 3 4 1 2 1 1 4 4 1 1 4 3 3 1 1 2 6 3 3 4 1 3 2 3 3 3 2 2 3 3 5 2 2 6 5 4 4 1 4 3 2 5 1 4 2 2 4 2 4 2 4 4 3 2 3 2 4 1 3 2 3 5 5 3 3 2 3 2 1 0 3 4 2 1 3 2 3 4 1 5 2 5 2 1 4 5 2 3 1 5 2 4 3 1 4 1 3 0 3 2 3 3 6 1 3 4 3 4 2 1 2 1 2 2 1 1 2 2 4 2 0 1 4 1 1 1 0 2 2 2 1 2 4 2 3 2 2 2 3 3 0 4 3 2 4 2 3 3 1 2 1 2 4 1 2 1 2 3 1 3 3 3 4 2 1 4 7 1 4 1 1 2 1 3 4 3 3 2 4 2 2 6 1 5 3 2 4 2 2 2 2 3 1 2 2 4 3 2 1 3 1 1 4 1 2 4 3 3 1 1 2 2 4 3 2 2 3 4 1 3 3 4 1 3 5 3 2 1 3 4 3 1 4 0 4 0 1 4 1 2 0 5 1 3 1 1 3 2 4 2 4 3 3 1 5 7 4 5 4 3 1 1 1 1 5 3 5 4 2 2 3 1 1 4\n"
     ]
    }
   ],
   "source": [
    "from collections import defaultdict\n",
    "\n",
    "def parse_fasta(fasta_input):\n",
    "    sequences = {}\n",
    "    label = None\n",
    "    for line in fasta_input.strip().split(\"\\n\"):\n",
    "        if line.startswith(\">\"):\n",
    "            label = line[1:]\n",
    "            sequences[label] = \"\"\n",
    "        else:\n",
    "            sequences[label] += line\n",
    "    return list(sequences.values())\n",
    "\n",
    "def Consensus_and_Profile (DNA):\n",
    "    n = len(DNA[0])  # Length of DNA\n",
    "    profile = {\"A\": [0] * n, \"C\": [0] * n, \"G\": [0] * n, \"T\": [0] * n}\n",
    "\n",
    "    for dna in DNA:\n",
    "        for i, base in enumerate(dna):\n",
    "            profile[base][i] += 1\n",
    "\n",
    "    consensus = \"\"\n",
    "    for i in range(n):\n",
    "        maximum_base = max(\"ACGT\", key=lambda base: profile[base][i]) #to get the maximum base in the DNA\n",
    "        consensus += maximum_base\n",
    "\n",
    "    return consensus, profile\n",
    "\n",
    "def format_profile(profile):\n",
    "    return \"\\n\".join(f\"{base}: {' '.join(map(str, counts))}\" for base, counts in profile.items())\n",
    "\n",
    "\n",
    "\n",
    "def read_text_file(file_path):\n",
    "\n",
    "    with open(file_path, \"r\") as file:\n",
    "        return file.read()\n",
    "\n",
    "file_path = \"Datasets/rosalind_cons.txt\" \n",
    "\n",
    "fasta_input = read_text_file(file_path)\n",
    "\n",
    "DNA = parse_fasta(fasta_input)\n",
    "consensus, profile = Consensus_and_Profile(DNA)\n",
    "\n",
    "print(consensus)\n",
    "print(format_profile(profile))\n"
   ]
  },
  {
   "cell_type": "code",
   "execution_count": null,
   "metadata": {},
   "outputs": [],
   "source": []
  }
 ],
 "metadata": {
  "kernelspec": {
   "display_name": "base",
   "language": "python",
   "name": "python3"
  },
  "language_info": {
   "codemirror_mode": {
    "name": "ipython",
    "version": 3
   },
   "file_extension": ".py",
   "mimetype": "text/x-python",
   "name": "python",
   "nbconvert_exporter": "python",
   "pygments_lexer": "ipython3",
   "version": "3.11.5"
  }
 },
 "nbformat": 4,
 "nbformat_minor": 2
}
